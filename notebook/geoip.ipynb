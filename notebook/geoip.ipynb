{
 "metadata": {
  "name": "geoip"
 },
 "nbformat": 2,
 "worksheets": [
  {
   "cells": [
    {
     "cell_type": "code",
     "collapsed": true,
     "input": [
      "import geoip"
     ],
     "language": "python",
     "outputs": [],
     "prompt_number": 1
    },
    {
     "cell_type": "code",
     "collapsed": false,
     "input": [
      "geoip.country('202.21.128.102')"
     ],
     "language": "python",
     "outputs": [
      {
       "output_type": "pyout",
       "prompt_number": 2,
       "text": [
        "'NZ'"
       ]
      }
     ],
     "prompt_number": 2
    },
    {
     "cell_type": "code",
     "collapsed": true,
     "input": [
      "import cx_Oracle"
     ],
     "language": "python",
     "outputs": [],
     "prompt_number": 3
    },
    {
     "cell_type": "code",
     "collapsed": true,
     "input": [
      "conn = cx_Oracle.connect('usr/pwd@host.com.au:1521/SERVICE')"
     ],
     "language": "python",
     "outputs": [],
     "prompt_number": 6
    },
    {
     "cell_type": "code",
     "collapsed": false,
     "input": [
      "cursor = conn.cursor()",
      "sql = \"\"\"",
      "select trunc(occurred_at), ip_address, count(*)",
      "from primary_event partition (pn20120701)",
      "where classified_by_rule_id is null",
      "group by trunc(occurred_at), ip_address",
      "having count(*) >30",
      "order by 1",
      "\"\"\"",
      "cursor.execute(sql)"
     ],
     "language": "python",
     "outputs": [
      {
       "output_type": "pyout",
       "prompt_number": 23,
       "text": [
        "<__builtin__.OracleCursor on <cx_Oracle.Connection to ...>>"
       ]
      }
     ],
     "prompt_number": 23
    },
    {
     "cell_type": "code",
     "collapsed": false,
     "input": [
      "print cursor.fetchone()"
     ],
     "language": "python",
     "outputs": [
      {
       "output_type": "stream",
       "stream": "stdout",
       "text": [
        "(datetime.datetime(2012, 7, 1, 0, 0), '66.249.73.92', 4341)"
       ]
      }
     ],
     "prompt_number": 24
    },
    {
     "cell_type": "code",
     "collapsed": false,
     "input": [
      "outfile = open('country_codes_30.txt', 'w')",
      "",
      "#rows = cursor.fetchall()",
      "#for row in rows:",
      "",
      "for _ in range(3):",
      "    row = cursor.fetchone()",
      "    ip = row[1]",
      "    country = geoip.country(ip)",
      "    if country == '':",
      "        country = '--'",
      "    print country, ip",
      "    outfile.write(country + ', ' + ip + '\\n')",
      "    ",
      "outfile.close()"
     ],
     "language": "python",
     "outputs": [
      {
       "output_type": "stream",
       "stream": "stdout",
       "text": [
        "US 66.249.68.52",
        "AU 149.135.145.92",
        "US 23.19.46.103"
       ]
      }
     ],
     "prompt_number": 31
    },
    {
     "cell_type": "code",
     "collapsed": true,
     "input": [
      "conn.close()"
     ],
     "language": "python",
     "outputs": [],
     "prompt_number": 32
    },
    {
     "cell_type": "code",
     "collapsed": false,
     "input": [
      "for i in range(9, 32):",
      "    print 'pn201207%02d' % i"
     ],
     "language": "python",
     "outputs": [
      {
       "output_type": "stream",
       "stream": "stdout",
       "text": [
        "pn20120709",
        "pn20120710",
        "pn20120711",
        "pn20120712",
        "pn20120713",
        "pn20120714",
        "pn20120715",
        "pn20120716",
        "pn20120717",
        "pn20120718",
        "pn20120719",
        "pn20120720",
        "pn20120721",
        "pn20120722",
        "pn20120723",
        "pn20120724",
        "pn20120725",
        "pn20120726",
        "pn20120727",
        "pn20120728",
        "pn20120729",
        "pn20120730",
        "pn20120731"
       ]
      }
     ],
     "prompt_number": 49
    },
    {
     "cell_type": "code",
     "collapsed": true,
     "input": [
      "import datetime"
     ],
     "language": "python",
     "outputs": [],
     "prompt_number": 36
    },
    {
     "cell_type": "code",
     "collapsed": false,
     "input": [
      "now = datetime.datetime.now()",
      "print now",
      "#print datetime.date(now)"
     ],
     "language": "python",
     "outputs": [
      {
       "output_type": "stream",
       "stream": "stdout",
       "text": [
        "2012-08-07 19:38:29.270804"
       ]
      }
     ],
     "prompt_number": 41
    },
    {
     "cell_type": "code",
     "collapsed": false,
     "input": [
      "print \"%4d-%2d-%2d\" % (now.year, now.month, now.day)"
     ],
     "language": "python",
     "outputs": [
      {
       "output_type": "stream",
       "stream": "stdout",
       "text": [
        "2012- 8- 7"
       ]
      }
     ],
     "prompt_number": 45
    },
    {
     "cell_type": "code",
     "collapsed": false,
     "input": [
      "print now.strftime('%Y-%m-%d')"
     ],
     "language": "python",
     "outputs": [
      {
       "output_type": "stream",
       "stream": "stdout",
       "text": [
        "2012-08-07"
       ]
      }
     ],
     "prompt_number": 46
    },
    {
     "cell_type": "code",
     "collapsed": false,
     "input": [
      "sql_template = \"\"\"",
      "select trunc(occurred_at), ip_address, count(*)",
      "from primary_event partition (%s)",
      "where classified_by_rule_id is null",
      "group by trunc(occurred_at), ip_address",
      "--having count(*) >30",
      "order by 1",
      "\"\"\" ",
      "",
      "sql = sql_template % 'pn20120709'",
      "",
      "print sql"
     ],
     "language": "python",
     "outputs": [
      {
       "output_type": "stream",
       "stream": "stdout",
       "text": [
        "",
        "select trunc(occurred_at), ip_address, count(*)",
        "from primary_event partition (pn20120709)",
        "where classified_by_rule_id is null",
        "group by trunc(occurred_at), ip_address",
        "--having count(*) >30",
        "order by 1"
       ]
      }
     ],
     "prompt_number": 52
    },
    {
     "cell_type": "code",
     "collapsed": true,
     "input": [],
     "language": "python",
     "outputs": []
    }
   ]
  }
 ]
}
